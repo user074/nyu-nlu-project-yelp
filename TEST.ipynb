{
 "cells": [
  {
   "cell_type": "code",
   "execution_count": 1,
   "metadata": {},
   "outputs": [],
   "source": [
    "import nltk\n",
    "from nltk.corpus import treebank"
   ]
  },
  {
   "cell_type": "code",
   "execution_count": 81,
   "metadata": {},
   "outputs": [],
   "source": [
    "a = \"\"\"Last night, I had pasta with chicken and wine. The pasta was fantastic but I wish they made the sauce less salty.\"\"\"\n",
    "b = \"\"\"The pho with beef was great. My friend had chicken pho.\"\"\"\n",
    "c = \"\"\"The BLT sandwich was aweful. The bread was hard and soggy.\"\"\"\n",
    "# from below, actually from yelp\n",
    "d = \"\"\"Server was a little rude. Ordered the calamari, duck confit poutine and the trout fish with miso soba - all very tasty. Definitely not your typical diner.\"\"\"\n",
    "e = \"\"\"Had their chocolate almond croissant and it was amazing! So light and buttery and oh my how chocolaty.\\n\\nIf you're looking for a light breakfast then head out here. Perfect spot for a coffee\\/latté before heading out to the old port\"\"\""
   ]
  },
  {
   "cell_type": "code",
   "execution_count": 82,
   "metadata": {},
   "outputs": [],
   "source": [
    "def identifying(tagged, library):\n",
    "    holding = []\n",
    "    counter = 0\n",
    "    pos = 0\n",
    "    cont = 0\n",
    "    while(counter<len(tagged)):\n",
    "        if(tagged[counter][1]=='IN')and(cont==1):\n",
    "            word = holding[pos-1]\n",
    "            word = word + ' ' + tagged[counter][0]\n",
    "            holding[pos-1]=word\n",
    "            counter +=1\n",
    "            continue\n",
    "        if(tagged[counter][1]=='NN')or(tagged[counter][1]=='VBN')or(tagged[counter][1]=='NNP')or(tagged[counter][1]=='SYM'):\n",
    "            # ^ prove it doesn't work for VBN for every case\n",
    "            if(tagged[counter][0].lower() not in library):\n",
    "                if(cont==0):\n",
    "                    holding.append(tagged[counter][0])\n",
    "                    pos+=1\n",
    "                    cont = 1 # variable to check if words NN is continuous\n",
    "                else:\n",
    "                    word = holding[pos-1]\n",
    "                    word = word +' ' + tagged[counter][0]\n",
    "                    holding[pos-1]=word   # making it longer as in chicken + pho --> chicken pho\n",
    "            else:\n",
    "                cont = 0\n",
    "        else:\n",
    "            cont=0\n",
    "        counter +=1\n",
    "    return holding, pos\n",
    "\n",
    "def tagging(sentence):\n",
    "    sentence = sentence.replace('\\n',' ')\n",
    "    sentence = sentence.replace('\\/',' ')\n",
    "    tokens = nltk.word_tokenize(sentence)\n",
    "    tagged = nltk.pos_tag(tokens)\n",
    "    return tagged"
   ]
  },
  {
   "cell_type": "code",
   "execution_count": 86,
   "metadata": {},
   "outputs": [
    {
     "data": {
      "text/plain": [
       "(['chocolate almond croissant',\n",
       "  'buttery',\n",
       "  'chocolaty',\n",
       "  'breakfast',\n",
       "  'coffee latté before'],\n",
       " 5)"
      ]
     },
     "execution_count": 86,
     "metadata": {},
     "output_type": "execute_result"
    }
   ],
   "source": [
    "library = ['food','store','waiter','friend','person','sauce','salty','night','person','family','server','rude','diner','perfect','spot','port']\n",
    "# ^ figure out how to automatically know words that are not in food\n",
    "ta = tagging(e)\n",
    "identifying(ta,library)"
   ]
  },
  {
   "cell_type": "code",
   "execution_count": 87,
   "metadata": {},
   "outputs": [
    {
     "data": {
      "text/plain": [
       "[('Server', 'NNP'),\n",
       " ('was', 'VBD'),\n",
       " ('a', 'DT'),\n",
       " ('little', 'JJ'),\n",
       " ('rude', 'NN'),\n",
       " ('.', '.'),\n",
       " ('Ordered', 'VBD'),\n",
       " ('the', 'DT'),\n",
       " ('calamari', 'NN'),\n",
       " (',', ','),\n",
       " ('duck', 'NN'),\n",
       " ('confit', 'NN'),\n",
       " ('poutine', 'NN'),\n",
       " ('and', 'CC'),\n",
       " ('the', 'DT'),\n",
       " ('trout', 'NN'),\n",
       " ('fish', 'NN'),\n",
       " ('with', 'IN'),\n",
       " ('miso', 'NN'),\n",
       " ('soba', 'SYM'),\n",
       " ('-', ':'),\n",
       " ('all', 'DT'),\n",
       " ('very', 'RB'),\n",
       " ('tasty', 'JJ'),\n",
       " ('.', '.'),\n",
       " ('Definitely', 'RB'),\n",
       " ('not', 'RB'),\n",
       " ('your', 'PRP$'),\n",
       " ('typical', 'JJ'),\n",
       " ('diner', 'NN'),\n",
       " ('.', '.')]"
      ]
     },
     "execution_count": 87,
     "metadata": {},
     "output_type": "execute_result"
    }
   ],
   "source": [
    "tagging(d)"
   ]
  },
  {
   "cell_type": "code",
   "execution_count": null,
   "metadata": {},
   "outputs": [],
   "source": []
  }
 ],
 "metadata": {
  "kernelspec": {
   "display_name": "Python 3",
   "language": "python",
   "name": "python3"
  },
  "language_info": {
   "codemirror_mode": {
    "name": "ipython",
    "version": 3
   },
   "file_extension": ".py",
   "mimetype": "text/x-python",
   "name": "python",
   "nbconvert_exporter": "python",
   "pygments_lexer": "ipython3",
   "version": "3.6.4"
  }
 },
 "nbformat": 4,
 "nbformat_minor": 2
}

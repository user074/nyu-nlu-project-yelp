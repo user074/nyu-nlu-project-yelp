{
 "cells": [
  {
   "cell_type": "code",
   "execution_count": 2,
   "metadata": {
    "collapsed": true,
    "deletable": true,
    "editable": true
   },
   "outputs": [],
   "source": [
    "import json\n",
    "import operator\n",
    "\n",
    "path = \"/home/jq394/dataset\""
   ]
  },
  {
   "cell_type": "code",
   "execution_count": 3,
   "metadata": {
    "collapsed": true,
    "deletable": true,
    "editable": true
   },
   "outputs": [],
   "source": [
    "\n",
    "#turn the file into json data\n",
    "def filesplit(path, fileName, data):\n",
    "    filePathName = path + '/' + fileName +'.json'\n",
    "    with open (filePathName) as f:\n",
    "        for line in f:\n",
    "            data.append(json.loads(line))\n",
    "    return data\n",
    "\n",
    "#eliminate any other data that are not food/restaurant related\n",
    "def restuarantDataNarrow(data, rstBusiness):\n",
    "    for business in data:\n",
    "        if (\"Restaurants\" or \"Food\") in business['categories']:\n",
    "            rstBusiness.append(business)\n",
    "    return rstBusiness\n",
    "\n"
   ]
  },
  {
   "cell_type": "code",
   "execution_count": 4,
   "metadata": {
    "collapsed": true,
    "deletable": true,
    "editable": true
   },
   "outputs": [],
   "source": [
    "#extract restaurant data only\n",
    "def restDataExtract(restData):\n",
    "    d = []\n",
    "    file = 'business' \n",
    "    d = filesplit(path, file, d)\n",
    "    rstBusiness = []\n",
    "    restData = restuarantDataNarrow(d, rstBusiness)\n",
    "    return restData\n"
   ]
  },
  {
   "cell_type": "code",
   "execution_count": 14,
   "metadata": {
    "collapsed": true,
    "deletable": true,
    "editable": true
   },
   "outputs": [],
   "source": [
    "\n",
    "def rstFileCreation(restData, rawDataFileName):\n",
    "    for rest in restData[6:1000]:\n",
    "        name = rest['business_id']\n",
    "        f = open(name + '.json', \"w+\")\n",
    "        #load review/tip data\n",
    "        rawfilePathName = path + '/' + rawDataFileName +'.json'\n",
    "        textData = []\n",
    "        with open (rawfilePathName) as rawf:\n",
    "            #turn the review/tip file into json data\n",
    "            for line in rawf:\n",
    "                textData=json.loads(line)\n",
    "                if name==textData['business_id']:\n",
    "                    json.dump(json.loads(line), f)\n",
    "                    f.write('\\n')\n",
    "\n",
    "        f.close()\n",
    "        "
   ]
  },
  {
   "cell_type": "code",
   "execution_count": 6,
   "metadata": {
    "collapsed": false,
    "deletable": true,
    "editable": true,
    "scrolled": true
   },
   "outputs": [],
   "source": [
    "restData = []\n",
    "restData = restDataExtract(restData)\n",
    "restData.sort(key=operator.itemgetter('review_count'))\n",
    "restData.reverse()\n"
   ]
  },
  {
   "cell_type": "code",
   "execution_count": null,
   "metadata": {
    "collapsed": false
   },
   "outputs": [],
   "source": [
    "rstFileCreation(restData,'review')"
   ]
  },
  {
   "cell_type": "code",
   "execution_count": null,
   "metadata": {
    "collapsed": true
   },
   "outputs": [],
   "source": []
  }
 ],
 "metadata": {
  "kernelspec": {
   "display_name": "Python 3",
   "language": "python",
   "name": "python3"
  },
  "language_info": {
   "codemirror_mode": {
    "name": "ipython",
    "version": 3
   },
   "file_extension": ".py",
   "mimetype": "text/x-python",
   "name": "python",
   "nbconvert_exporter": "python",
   "pygments_lexer": "ipython3",
   "version": "3.5.3"
  }
 },
 "nbformat": 4,
 "nbformat_minor": 2
}

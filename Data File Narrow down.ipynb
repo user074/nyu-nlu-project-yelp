{
 "cells": [
  {
   "cell_type": "code",
   "execution_count": 4,
   "metadata": {
    "collapsed": true
   },
   "outputs": [],
   "source": [
    "path = \"/Users/JQ/Documents/NYU 2018 Spring/NLU/Project Yelp/dataset\"\n"
   ]
  },
  {
   "cell_type": "code",
   "execution_count": 13,
   "metadata": {
    "collapsed": true
   },
   "outputs": [],
   "source": [
    "import json\n",
    "\n",
    "def filesplit(path, fileName, data):\n",
    "    filePathName = path + '/' + fileName +'.json'\n",
    "    with open (filePathName) as f:\n",
    "        for line in f:\n",
    "            data.append(json.loads(line))\n",
    "    return data\n",
    "\n",
    "\n",
    "def restuarantDataNarrow(data, rstBusiness):\n",
    "    for business in data:\n",
    "        if \"Restaurants\" in business['categories']:\n",
    "            rstBusiness.append(business)\n",
    "    return rstBusiness\n",
    "\n"
   ]
  },
  {
   "cell_type": "code",
   "execution_count": 15,
   "metadata": {},
   "outputs": [
    {
     "name": "stdout",
     "output_type": "stream",
     "text": [
      "[{'business_id': 'o9eMRCWt5PkpLDE0gOPtcQ', 'name': 'Messina', 'neighborhood': '', 'address': 'Richterstr. 11', 'city': 'Stuttgart', 'state': 'BW', 'postal_code': '70567', 'latitude': 48.7272, 'longitude': 9.14795, 'stars': 4.0, 'review_count': 5, 'is_open': 1, 'attributes': {'GoodForMeal': {'dessert': False, 'latenight': False, 'lunch': False, 'dinner': False, 'breakfast': False, 'brunch': False}, 'DogsAllowed': False, 'Alcohol': 'beer_and_wine', 'RestaurantsGoodForGroups': True, 'RestaurantsAttire': 'dressy', 'RestaurantsReservations': True, 'OutdoorSeating': True, 'BusinessAcceptsCreditCards': True, 'RestaurantsPriceRange2': 3, 'RestaurantsDelivery': False, 'Ambience': {'romantic': False, 'intimate': False, 'classy': False, 'hipster': False, 'touristy': False, 'trendy': False, 'upscale': False, 'casual': False}, 'RestaurantsTakeOut': False, 'GoodForKids': True, 'WheelchairAccessible': False, 'BusinessParking': {'garage': False, 'street': False, 'validated': False, 'lot': False, 'valet': False}}, 'categories': ['Italian', 'Restaurants'], 'hours': {'Monday': '18:00-0:00', 'Tuesday': '18:00-0:00', 'Friday': '18:00-0:00', 'Wednesday': '18:00-0:00', 'Thursday': '18:00-0:00', 'Saturday': '18:00-0:00'}}, {'business_id': 'XOSRcvtaKc_Q5H1SAzN20A', 'name': 'East Coast Coffee', 'neighborhood': '', 'address': '737 West Pike St', 'city': 'Houston', 'state': 'PA', 'postal_code': '15342', 'latitude': 40.2415480142, 'longitude': -80.2128151059, 'stars': 4.5, 'review_count': 3, 'is_open': 0, 'attributes': {'RestaurantsTableService': True, 'GoodForMeal': {'dessert': False, 'latenight': False, 'lunch': False, 'dinner': False, 'breakfast': False, 'brunch': False}, 'DogsAllowed': True, 'Alcohol': 'none', 'Caters': True, 'HasTV': False, 'RestaurantsGoodForGroups': True, 'RestaurantsAttire': 'casual', 'RestaurantsReservations': True, 'OutdoorSeating': False, 'BusinessAcceptsCreditCards': True, 'RestaurantsPriceRange2': 1, 'BusinessAcceptsBitcoin': False, 'BikeParking': True, 'RestaurantsDelivery': False, 'RestaurantsTakeOut': True, 'GoodForKids': True, 'WheelchairAccessible': True, 'BusinessParking': {'garage': False, 'street': False, 'validated': False, 'lot': True, 'valet': False}}, 'categories': ['Breakfast & Brunch', 'Gluten-Free', 'Coffee & Tea', 'Food', 'Restaurants', 'Sandwiches'], 'hours': {}}, {'business_id': 'fNMVV_ZX7CJSDWQGdOM8Nw', 'name': 'Showmars Government Center', 'neighborhood': 'Uptown', 'address': '600 E 4th St', 'city': 'Charlotte', 'state': 'NC', 'postal_code': '28202', 'latitude': 35.2216474, 'longitude': -80.8393449, 'stars': 3.5, 'review_count': 7, 'is_open': 1, 'attributes': {'GoodForMeal': {'dessert': False, 'latenight': False, 'lunch': False, 'dinner': False, 'breakfast': False, 'brunch': False}, 'RestaurantsTableService': False, 'HasTV': False, 'RestaurantsGoodForGroups': True, 'WiFi': 'free', 'RestaurantsAttire': 'casual', 'RestaurantsReservations': False, 'OutdoorSeating': True, 'BusinessAcceptsCreditCards': True, 'RestaurantsPriceRange2': 1, 'BikeParking': True, 'RestaurantsDelivery': False, 'Ambience': {'romantic': False, 'intimate': False, 'classy': False, 'hipster': False, 'divey': False, 'touristy': False, 'trendy': False, 'upscale': False, 'casual': False}, 'RestaurantsTakeOut': True, 'GoodForKids': True}, 'categories': ['Restaurants', 'American (Traditional)'], 'hours': {'Friday': '7:00-15:00', 'Tuesday': '7:00-15:00', 'Thursday': '7:00-15:00', 'Wednesday': '7:00-15:00', 'Monday': '7:00-15:00'}}, {'business_id': 'l09JfMeQ6ynYs5MCJtrcmQ', 'name': 'Alize Catering', 'neighborhood': 'Yonge and Eglinton', 'address': '2459 Yonge St', 'city': 'Toronto', 'state': 'ON', 'postal_code': 'M4P 2H6', 'latitude': 43.7113993, 'longitude': -79.3993388, 'stars': 3.0, 'review_count': 12, 'is_open': 0, 'attributes': {'GoodForMeal': {'dessert': False, 'latenight': False, 'lunch': False, 'dinner': True, 'breakfast': False, 'brunch': False}, 'Alcohol': 'full_bar', 'Caters': False, 'HasTV': False, 'RestaurantsGoodForGroups': False, 'NoiseLevel': 'average', 'WiFi': 'no', 'RestaurantsAttire': 'casual', 'RestaurantsReservations': True, 'OutdoorSeating': True, 'BusinessAcceptsCreditCards': True, 'RestaurantsPriceRange2': 3, 'RestaurantsTableService': True, 'RestaurantsDelivery': False, 'Ambience': {'romantic': True, 'intimate': False, 'classy': False, 'hipster': False, 'touristy': False, 'trendy': False, 'upscale': False, 'casual': False}, 'RestaurantsTakeOut': True, 'GoodForKids': False, 'WheelchairAccessible': False, 'BusinessParking': {'garage': False, 'street': True, 'validated': False, 'lot': False, 'valet': False}}, 'categories': ['Italian', 'French', 'Restaurants'], 'hours': {'Monday': '9:00-22:00', 'Tuesday': '9:00-22:00', 'Friday': '9:00-22:00', 'Wednesday': '9:00-22:00', 'Thursday': '9:00-22:00', 'Sunday': '9:00-22:00', 'Saturday': '9:00-22:00'}}]\n"
     ]
    }
   ],
   "source": [
    "d = []\n",
    "file = 'business' \n",
    "d = filesplit(path, file, d)\n",
    "rstBusiness = []\n",
    "restData = restuarantDataNarrow(d, rstBusiness)\n",
    "\n",
    "print(rstBusiness[1:5])\n",
    "\n"
   ]
  },
  {
   "cell_type": "code",
   "execution_count": null,
   "metadata": {
    "collapsed": true
   },
   "outputs": [],
   "source": []
  }
 ],
 "metadata": {
  "kernelspec": {
   "display_name": "Python 3",
   "language": "python",
   "name": "python3"
  },
  "language_info": {
   "codemirror_mode": {
    "name": "ipython",
    "version": 3
   },
   "file_extension": ".py",
   "mimetype": "text/x-python",
   "name": "python",
   "nbconvert_exporter": "python",
   "pygments_lexer": "ipython3",
   "version": "3.6.3"
  }
 },
 "nbformat": 4,
 "nbformat_minor": 2
}
